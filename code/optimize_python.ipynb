{
 "cells": [
  {
   "cell_type": "markdown",
   "metadata": {},
   "source": [
    "# Optimize the Python propensity score matcher\n",
    "\n",
    "Last updated: 2019-10-22"
   ]
  },
  {
   "cell_type": "code",
   "execution_count": 1,
   "metadata": {},
   "outputs": [],
   "source": [
    "import pandas as pd\n",
    "import numpy as np\n",
    "\n",
    "from collections import defaultdict\n",
    "from sortedcontainers import SortedList"
   ]
  },
  {
   "cell_type": "code",
   "execution_count": 2,
   "metadata": {},
   "outputs": [],
   "source": [
    "%load_ext line_profiler"
   ]
  },
  {
   "cell_type": "markdown",
   "metadata": {},
   "source": [
    "## Read data"
   ]
  },
  {
   "cell_type": "code",
   "execution_count": 3,
   "metadata": {},
   "outputs": [],
   "source": [
    "data = pd.read_csv(\"../data/scores.tsv\", sep='\\t', names=[\"MMI_ID\", \"pred_prob\", \"used_drug\"])"
   ]
  },
  {
   "cell_type": "code",
   "execution_count": 4,
   "metadata": {},
   "outputs": [
    {
     "data": {
      "text/plain": [
       "(1000000, 3)"
      ]
     },
     "execution_count": 4,
     "metadata": {},
     "output_type": "execute_result"
    }
   ],
   "source": [
    "data.shape"
   ]
  },
  {
   "cell_type": "code",
   "execution_count": 5,
   "metadata": {},
   "outputs": [
    {
     "data": {
      "text/html": [
       "<div>\n",
       "<style scoped>\n",
       "    .dataframe tbody tr th:only-of-type {\n",
       "        vertical-align: middle;\n",
       "    }\n",
       "\n",
       "    .dataframe tbody tr th {\n",
       "        vertical-align: top;\n",
       "    }\n",
       "\n",
       "    .dataframe thead th {\n",
       "        text-align: right;\n",
       "    }\n",
       "</style>\n",
       "<table border=\"1\" class=\"dataframe\">\n",
       "  <thead>\n",
       "    <tr style=\"text-align: right;\">\n",
       "      <th></th>\n",
       "      <th>MMI_ID</th>\n",
       "      <th>pred_prob</th>\n",
       "      <th>used_drug</th>\n",
       "    </tr>\n",
       "  </thead>\n",
       "  <tbody>\n",
       "    <tr>\n",
       "      <th>0</th>\n",
       "      <td>0</td>\n",
       "      <td>0.746445</td>\n",
       "      <td>1</td>\n",
       "    </tr>\n",
       "    <tr>\n",
       "      <th>1</th>\n",
       "      <td>1</td>\n",
       "      <td>0.401794</td>\n",
       "      <td>1</td>\n",
       "    </tr>\n",
       "    <tr>\n",
       "      <th>2</th>\n",
       "      <td>2</td>\n",
       "      <td>0.207886</td>\n",
       "      <td>1</td>\n",
       "    </tr>\n",
       "    <tr>\n",
       "      <th>3</th>\n",
       "      <td>3</td>\n",
       "      <td>0.551139</td>\n",
       "      <td>1</td>\n",
       "    </tr>\n",
       "    <tr>\n",
       "      <th>4</th>\n",
       "      <td>4</td>\n",
       "      <td>0.522224</td>\n",
       "      <td>1</td>\n",
       "    </tr>\n",
       "  </tbody>\n",
       "</table>\n",
       "</div>"
      ],
      "text/plain": [
       "   MMI_ID  pred_prob  used_drug\n",
       "0       0   0.746445          1\n",
       "1       1   0.401794          1\n",
       "2       2   0.207886          1\n",
       "3       3   0.551139          1\n",
       "4       4   0.522224          1"
      ]
     },
     "execution_count": 5,
     "metadata": {},
     "output_type": "execute_result"
    }
   ],
   "source": [
    "data.head()"
   ]
  },
  {
   "cell_type": "markdown",
   "metadata": {},
   "source": [
    "## Propensity matcher (original)"
   ]
  },
  {
   "cell_type": "code",
   "execution_count": 6,
   "metadata": {},
   "outputs": [],
   "source": [
    "def match_pairs(people, caliper=0.05):\n",
    "    \n",
    "    PRECISION = 1000000\n",
    "    MAX_DIST = int(caliper * PRECISION)\n",
    "    \n",
    "    scores = people.assign(\n",
    "        prop_score = lambda df: np.floor(df[\"pred_prob\"].mul(PRECISION)).astype(int)\n",
    "    )\n",
    "    \n",
    "    neg_ppl = scores.query(\"used_drug == 0\")\n",
    "    \n",
    "    neg_scores = SortedList(neg_ppl[\"prop_score\"])\n",
    "    \n",
    "    matched_scores = []\n",
    "    pos_ppl = scores.query(\"used_drug == 1\")\n",
    "    for row in pos_ppl.itertuples():\n",
    "        target = row.prop_score\n",
    "        \n",
    "        idx = neg_scores.bisect_left(target)\n",
    "        \n",
    "        if idx == len(neg_scores):\n",
    "            idx -= 1\n",
    "            \n",
    "        if idx == -1:\n",
    "            break\n",
    "            \n",
    "        closest_val = neg_scores[idx]\n",
    "        \n",
    "        if idx > 0:\n",
    "            prev_val = neg_scores[idx - 1]\n",
    "            \n",
    "            if abs(target - prev_val) < abs(target - closest_val):\n",
    "                closest_val = prev_val\n",
    "                \n",
    "        if abs(target - closest_val) > MAX_DIST:\n",
    "            continue\n",
    "            \n",
    "        neg_scores.remove(closest_val)\n",
    "        \n",
    "        matched_scores.append((row.MMI_ID, closest_val))\n",
    "        \n",
    "    neg_ppl_list = defaultdict(list)\n",
    "    for row in neg_ppl.itertuples():\n",
    "        neg_ppl_list[row.prop_score].append(row.MMI_ID)\n",
    "        \n",
    "    matched_pairs = []\n",
    "    for pos_person, pscore in matched_scores:\n",
    "        neg_person = neg_ppl_list[pscore].pop()\n",
    "        \n",
    "        matched_pairs.append((pos_person, neg_person))\n",
    "        \n",
    "    final = pd.DataFrame(\n",
    "        matched_pairs, columns=[\"MMI_ID\", \"matched_person\"]\n",
    "    )\n",
    "    \n",
    "    return final"
   ]
  },
  {
   "cell_type": "code",
   "execution_count": 7,
   "metadata": {},
   "outputs": [
    {
     "name": "stdout",
     "output_type": "stream",
     "text": [
      "5.58 s ± 33.2 ms per loop (mean ± std. dev. of 7 runs, 1 loop each)\n"
     ]
    }
   ],
   "source": [
    "%%timeit\n",
    "\n",
    "res = match_pairs(data)"
   ]
  },
  {
   "cell_type": "code",
   "execution_count": 8,
   "metadata": {},
   "outputs": [
    {
     "name": "stdout",
     "output_type": "stream",
     "text": [
      "\n",
      "*** Profile printout saved to text file '../pipeline/profiles/py_orig'. \n"
     ]
    }
   ],
   "source": [
    "%lprun -T ../pipeline/profiles/py_orig -f match_pairs match_pairs(data)"
   ]
  },
  {
   "cell_type": "markdown",
   "metadata": {},
   "source": [
    "## Test different optimizations\n",
    "\n",
    "- Reduce memory usage by specifying integer size"
   ]
  },
  {
   "cell_type": "code",
   "execution_count": 9,
   "metadata": {},
   "outputs": [],
   "source": [
    "# change prop score to unsigned 32bit integer\n",
    "\n",
    "def match_pairs_dev2(people, caliper=0.05):\n",
    "    \n",
    "    PRECISION = 1000000\n",
    "    MAX_DIST = int(caliper * PRECISION)\n",
    "    \n",
    "    scores = people.assign(\n",
    "        prop_score = lambda df: np.floor(df[\"pred_prob\"].mul(PRECISION)).astype(np.uint32)\n",
    "    )\n",
    "    \n",
    "    neg_ppl = scores.query(\"used_drug == 0\")\n",
    "    \n",
    "    neg_scores = SortedList(neg_ppl[\"prop_score\"])\n",
    "    \n",
    "    matched_scores = []\n",
    "    pos_ppl = scores.query(\"used_drug == 1\")\n",
    "    for row in pos_ppl.itertuples():\n",
    "        target = row.prop_score\n",
    "        \n",
    "        idx = neg_scores.bisect_left(target)\n",
    "        \n",
    "        if idx == len(neg_scores):\n",
    "            idx -= 1\n",
    "            \n",
    "        if idx == -1:\n",
    "            break\n",
    "            \n",
    "        closest_val = neg_scores[idx]\n",
    "        \n",
    "        if idx > 0:\n",
    "            prev_val = neg_scores[idx - 1]\n",
    "            \n",
    "            if abs(target - prev_val) < abs(target - closest_val):\n",
    "                closest_val = prev_val\n",
    "                \n",
    "        if abs(target - closest_val) > MAX_DIST:\n",
    "            continue\n",
    "            \n",
    "        neg_scores.remove(closest_val)\n",
    "        \n",
    "        matched_scores.append((row.MMI_ID, closest_val))\n",
    "        \n",
    "    neg_ppl_list = defaultdict(list)\n",
    "    for row in neg_ppl.itertuples():\n",
    "        neg_ppl_list[row.prop_score].append(row.MMI_ID)\n",
    "        \n",
    "    matched_pairs = []\n",
    "    for pos_person, pscore in matched_scores:\n",
    "        neg_person = neg_ppl_list[pscore].pop()\n",
    "        \n",
    "        matched_pairs.append((pos_person, neg_person))\n",
    "        \n",
    "    final = pd.DataFrame(\n",
    "        matched_pairs, columns=[\"MMI_ID\", \"matched_person\"]\n",
    "    )\n",
    "    \n",
    "    return final"
   ]
  },
  {
   "cell_type": "code",
   "execution_count": 10,
   "metadata": {},
   "outputs": [
    {
     "name": "stdout",
     "output_type": "stream",
     "text": [
      "5.56 s ± 22.5 ms per loop (mean ± std. dev. of 7 runs, 1 loop each)\n"
     ]
    }
   ],
   "source": [
    "%%timeit\n",
    "\n",
    "res = match_pairs_dev2(data)"
   ]
  },
  {
   "cell_type": "code",
   "execution_count": 11,
   "metadata": {},
   "outputs": [
    {
     "name": "stdout",
     "output_type": "stream",
     "text": [
      "\n",
      "*** Profile printout saved to text file '../pipeline/profiles/py_dev2'. \n"
     ]
    }
   ],
   "source": [
    "%lprun -T ../pipeline/profiles/py_dev2 -f match_pairs_dev2 match_pairs_dev2(data)"
   ]
  },
  {
   "cell_type": "markdown",
   "metadata": {},
   "source": [
    "Using 32 bit integers seems to have made no difference."
   ]
  },
  {
   "cell_type": "markdown",
   "metadata": {},
   "source": [
    "## Optimization 3\n",
    "\n",
    "- Rewrite inner loop to eliminate an expensive lookup"
   ]
  },
  {
   "cell_type": "code",
   "execution_count": 12,
   "metadata": {},
   "outputs": [],
   "source": [
    "# change prop score to unsigned 32bit integer\n",
    "\n",
    "# rewrite inner loop logic to eliminate an expensive index call when idx == n\n",
    "\n",
    "def match_pairs_dev3(people, caliper=0.05):\n",
    "    \n",
    "    PRECISION = 1000000\n",
    "    MAX_DIST = int(caliper * PRECISION)\n",
    "    \n",
    "    scores = people.assign(\n",
    "        prop_score = lambda df: np.floor(df[\"pred_prob\"].mul(PRECISION)).astype(np.uint32)\n",
    "    )\n",
    "    \n",
    "    neg_ppl = scores.query(\"used_drug == 0\")\n",
    "    \n",
    "    neg_scores = SortedList(neg_ppl[\"prop_score\"])\n",
    "    \n",
    "    matched_scores = []\n",
    "    pos_ppl = scores.query(\"used_drug == 1\")\n",
    "    \n",
    "    \n",
    "    for row in pos_ppl.itertuples():\n",
    "        \n",
    "        \n",
    "        if not neg_scores:\n",
    "            break\n",
    "        \n",
    "        \n",
    "        \n",
    "        target = row.prop_score\n",
    "        \n",
    "        \n",
    "        closest_val = None        \n",
    "        \n",
    "                \n",
    "        idx = neg_scores.bisect_left(target)\n",
    "        \n",
    "        \n",
    "        if idx == len(neg_scores):\n",
    "            closest_val = neg_scores[-1]\n",
    "        elif idx == 0:\n",
    "            closest_val = neg_scores[0]\n",
    "\n",
    "            \n",
    "        if closest_val is None:\n",
    "            cur_val = neg_scores[idx]\n",
    "            prev_val = neg_scores[idx - 1]\n",
    "            \n",
    "            if (target - prev_val) < (cur_val - target):\n",
    "                closest_val = prev_val\n",
    "            else:\n",
    "                closest_val = cur_val\n",
    "                \n",
    "        if abs(target - closest_val) > MAX_DIST:\n",
    "            continue\n",
    "            \n",
    "        neg_scores.remove(closest_val)\n",
    "        \n",
    "        matched_scores.append((row.MMI_ID, closest_val))\n",
    "        \n",
    "    neg_ppl_list = defaultdict(list)\n",
    "    for row in neg_ppl.itertuples():\n",
    "        neg_ppl_list[row.prop_score].append(row.MMI_ID)\n",
    "        \n",
    "    matched_pairs = []\n",
    "    for pos_person, pscore in matched_scores:\n",
    "        neg_person = neg_ppl_list[pscore].pop()\n",
    "        \n",
    "        matched_pairs.append((pos_person, neg_person))\n",
    "        \n",
    "    final = pd.DataFrame(\n",
    "        matched_pairs, columns=[\"MMI_ID\", \"matched_person\"]\n",
    "    )\n",
    "    \n",
    "    return final"
   ]
  },
  {
   "cell_type": "code",
   "execution_count": 13,
   "metadata": {},
   "outputs": [
    {
     "name": "stdout",
     "output_type": "stream",
     "text": [
      "5.35 s ± 24.1 ms per loop (mean ± std. dev. of 7 runs, 1 loop each)\n"
     ]
    }
   ],
   "source": [
    "%%timeit\n",
    "\n",
    "res = match_pairs_dev3(data)"
   ]
  },
  {
   "cell_type": "markdown",
   "metadata": {},
   "source": [
    "**Rewriting the logic reduced runtime by a very small 0.2 s.**"
   ]
  },
  {
   "cell_type": "code",
   "execution_count": 14,
   "metadata": {},
   "outputs": [
    {
     "name": "stdout",
     "output_type": "stream",
     "text": [
      "\n",
      "*** Profile printout saved to text file '../pipeline/profiles/py_dev3'. \n"
     ]
    }
   ],
   "source": [
    "%lprun -T ../pipeline/profiles/py_dev3 -f match_pairs_dev3 match_pairs_dev3(data)"
   ]
  },
  {
   "cell_type": "markdown",
   "metadata": {},
   "source": [
    "## Optimization 4\n",
    "\n",
    "- Reduce pandas dataframe prior to iteration"
   ]
  },
  {
   "cell_type": "code",
   "execution_count": 15,
   "metadata": {},
   "outputs": [],
   "source": [
    "# change prop score to unsigned 32bit integer\n",
    "\n",
    "# rewrite inner loop logic to eliminate an expensive index call when idx == n\n",
    "\n",
    "# reduce data size a little\n",
    "\n",
    "def match_pairs_dev4(people, caliper=0.05):\n",
    "    \n",
    "    PRECISION = 1000000\n",
    "    MAX_DIST = int(caliper * PRECISION)\n",
    "    \n",
    "    scores = people.assign(\n",
    "        prop_score = lambda df: np.floor(df[\"pred_prob\"].mul(PRECISION)).astype(np.uint32)\n",
    "    )\n",
    "    \n",
    "    neg_ppl = scores.query(\"used_drug == 0\")[[\"MMI_ID\", \"prop_score\"]]\n",
    "    \n",
    "    \n",
    "    neg_scores = SortedList(neg_ppl[\"prop_score\"])\n",
    "    \n",
    "    matched_scores = []\n",
    "    pos_ppl = scores.query(\"used_drug == 1\")[[\"MMI_ID\", \"prop_score\"]]\n",
    "    \n",
    "    \n",
    "    for row in pos_ppl.itertuples():\n",
    "        \n",
    "        if not neg_scores:\n",
    "            break\n",
    "        \n",
    "        target = row.prop_score\n",
    "        \n",
    "        closest_val = None        \n",
    "        \n",
    "        idx = neg_scores.bisect_left(target)\n",
    "        \n",
    "        if idx == len(neg_scores):\n",
    "            closest_val = neg_scores[-1]\n",
    "        elif idx == 0:\n",
    "            closest_val = neg_scores[0]\n",
    "\n",
    "            \n",
    "        if closest_val is None:\n",
    "            cur_val = neg_scores[idx]\n",
    "            prev_val = neg_scores[idx - 1]\n",
    "            \n",
    "            if (target - prev_val) < (cur_val - target):\n",
    "                closest_val = prev_val\n",
    "            else:\n",
    "                closest_val = cur_val\n",
    "                \n",
    "        if abs(target - closest_val) > MAX_DIST:\n",
    "            continue\n",
    "            \n",
    "        neg_scores.remove(closest_val)\n",
    "        \n",
    "        matched_scores.append((row.MMI_ID, closest_val))\n",
    "        \n",
    "    neg_ppl_list = defaultdict(list)\n",
    "    for row in neg_ppl.itertuples():\n",
    "        neg_ppl_list[row.prop_score].append(row.MMI_ID)\n",
    "        \n",
    "    matched_pairs = []\n",
    "    for pos_person, pscore in matched_scores:\n",
    "        neg_person = neg_ppl_list[pscore].pop()\n",
    "        \n",
    "        matched_pairs.append((pos_person, neg_person))\n",
    "        \n",
    "    final = pd.DataFrame(\n",
    "        matched_pairs, columns=[\"MMI_ID\", \"matched_person\"]\n",
    "    )\n",
    "    \n",
    "    return final"
   ]
  },
  {
   "cell_type": "code",
   "execution_count": 16,
   "metadata": {},
   "outputs": [
    {
     "name": "stdout",
     "output_type": "stream",
     "text": [
      "5.26 s ± 83.3 ms per loop (mean ± std. dev. of 7 runs, 1 loop each)\n"
     ]
    }
   ],
   "source": [
    "%%timeit\n",
    "\n",
    "res = match_pairs_dev4(data)"
   ]
  },
  {
   "cell_type": "markdown",
   "metadata": {},
   "source": [
    "**Again it seems to have made a small 0.1 s difference.**"
   ]
  },
  {
   "cell_type": "code",
   "execution_count": 17,
   "metadata": {},
   "outputs": [
    {
     "name": "stdout",
     "output_type": "stream",
     "text": [
      "\n",
      "*** Profile printout saved to text file '../pipeline/profiles/py_dev4'. \n"
     ]
    }
   ],
   "source": [
    "%lprun -T ../pipeline/profiles/py_dev4 -f match_pairs_dev4 match_pairs_dev4(data)"
   ]
  },
  {
   "cell_type": "markdown",
   "metadata": {},
   "source": [
    "## Optimization 5\n",
    "\n",
    "- Return result as a list, not as a dataframe"
   ]
  },
  {
   "cell_type": "code",
   "execution_count": 18,
   "metadata": {},
   "outputs": [],
   "source": [
    "# change prop score to unsigned 32bit integer\n",
    "\n",
    "# rewrite inner loop logic to eliminate an expensive index call when idx == n\n",
    "\n",
    "# remove output dataframe\n",
    "\n",
    "def match_pairs_dev5(people, caliper=0.05):\n",
    "    \n",
    "    PRECISION = 1000000\n",
    "    MAX_DIST = int(caliper * PRECISION)\n",
    "    \n",
    "    scores = people.assign(\n",
    "        prop_score = lambda df: np.floor(df[\"pred_prob\"].mul(PRECISION)).astype(np.uint32)\n",
    "    )\n",
    "    \n",
    "    \n",
    "    neg_ppl = scores.query(\"used_drug == 0\")[[\"MMI_ID\", \"prop_score\"]]\n",
    "    \n",
    "    \n",
    "    neg_scores = SortedList(neg_ppl[\"prop_score\"])\n",
    "    \n",
    "    matched_scores = []\n",
    "    pos_ppl = scores.query(\"used_drug == 1\")[[\"MMI_ID\", \"prop_score\"]]\n",
    "    \n",
    "    \n",
    "    for row in pos_ppl.itertuples():\n",
    "        \n",
    "        if not neg_scores:\n",
    "            break\n",
    "        \n",
    "        target = row.prop_score\n",
    "        \n",
    "        closest_val = None        \n",
    "        \n",
    "        idx = neg_scores.bisect_left(target)\n",
    "        \n",
    "        if idx == len(neg_scores):\n",
    "            closest_val = neg_scores[-1]\n",
    "        elif idx == 0:\n",
    "            closest_val = neg_scores[0]\n",
    "\n",
    "            \n",
    "        if closest_val is None:\n",
    "            cur_val = neg_scores[idx]\n",
    "            prev_val = neg_scores[idx - 1]\n",
    "            \n",
    "            if (target - prev_val) < (cur_val - target):\n",
    "                closest_val = prev_val\n",
    "            else:\n",
    "                closest_val = cur_val\n",
    "                \n",
    "        if abs(target - closest_val) > MAX_DIST:\n",
    "            continue\n",
    "            \n",
    "        neg_scores.remove(closest_val)\n",
    "        \n",
    "        matched_scores.append((row.MMI_ID, closest_val))\n",
    "\n",
    "        \n",
    "    neg_ppl_list = defaultdict(list)\n",
    "    for row in neg_ppl.itertuples():\n",
    "        neg_ppl_list[row.prop_score].append(row.MMI_ID)\n",
    "        \n",
    "        \n",
    "        \n",
    "    matched_pairs = defaultdict(list)\n",
    "    for pos_person, pscore in matched_scores:\n",
    "        neg_person = neg_ppl_list[pscore].pop()\n",
    "        \n",
    "        matched_pairs[\"MMI_ID\"].append(pos_person)\n",
    "        matched_pairs[\"matched_person\"].append(neg_person)\n",
    "        \n",
    "        \n",
    "    return matched_pairs"
   ]
  },
  {
   "cell_type": "code",
   "execution_count": 19,
   "metadata": {},
   "outputs": [
    {
     "name": "stdout",
     "output_type": "stream",
     "text": [
      "5.03 s ± 19.4 ms per loop (mean ± std. dev. of 7 runs, 1 loop each)\n"
     ]
    }
   ],
   "source": [
    "%%timeit\n",
    "\n",
    "res = match_pairs_dev5(data)"
   ]
  },
  {
   "cell_type": "markdown",
   "metadata": {},
   "source": [
    "Eliminating the use of the return dataframe provides another small 0.2 s speed up."
   ]
  },
  {
   "cell_type": "markdown",
   "metadata": {},
   "source": [
    "## Optimization 6\n",
    "\n",
    "- Convert dataframe to numpy array prior to looping"
   ]
  },
  {
   "cell_type": "code",
   "execution_count": 20,
   "metadata": {},
   "outputs": [],
   "source": [
    "# change prop score to unsigned 32bit integer\n",
    "\n",
    "# rewrite inner loop logic to eliminate an expensive index call when idx == n\n",
    "\n",
    "# remove output dataframe\n",
    "\n",
    "# changed to numpy for looping\n",
    "\n",
    "\n",
    "def match_pairs_dev6(people, caliper=0.05):\n",
    "    \n",
    "    PRECISION = 1000000\n",
    "    MAX_DIST = int(caliper * PRECISION)\n",
    "    \n",
    "    scores = (people\n",
    "        .assign(\n",
    "            prop_score = lambda df: np.floor(df[\"pred_prob\"].mul(PRECISION)).astype(np.uint32)\n",
    "        )\n",
    "        .drop(\"pred_prob\", axis=1)\n",
    "    )\n",
    "    \n",
    "    \n",
    "    neg_ppl = scores.query(\"used_drug == 0\")[[\"MMI_ID\", \"prop_score\"]]\n",
    "    \n",
    "    \n",
    "    neg_scores = SortedList(neg_ppl[\"prop_score\"])\n",
    "    \n",
    "    matched_scores = []\n",
    "    pos_ppl = scores.query(\"used_drug == 1\")[[\"MMI_ID\", \"prop_score\"]].to_numpy()\n",
    "    \n",
    "    \n",
    "    for row in pos_ppl:\n",
    "        \n",
    "        if not neg_scores:\n",
    "            break\n",
    "        \n",
    "        target = row[1] # prop_score\n",
    "        \n",
    "        \n",
    "        closest_val = None        \n",
    "        \n",
    "                \n",
    "        idx = neg_scores.bisect_left(target)\n",
    "        \n",
    "        if idx == len(neg_scores):\n",
    "            closest_val = neg_scores[-1]\n",
    "        elif idx == 0:\n",
    "            closest_val = neg_scores[0]\n",
    "\n",
    "            \n",
    "        if closest_val is None:\n",
    "            cur_val = neg_scores[idx]\n",
    "            prev_val = neg_scores[idx - 1]\n",
    "            \n",
    "            if (target - prev_val) < (cur_val - target):\n",
    "                closest_val = prev_val\n",
    "            else:\n",
    "                closest_val = cur_val\n",
    "                \n",
    "        if abs(target - closest_val) > MAX_DIST:\n",
    "            continue\n",
    "            \n",
    "        neg_scores.remove(closest_val)\n",
    "        \n",
    "        matched_scores.append((row[0], closest_val))\n",
    "\n",
    "        \n",
    "    neg_ppl_list = defaultdict(list)\n",
    "    \n",
    "    neg_ppl = neg_ppl.to_numpy()\n",
    "    \n",
    "    for row in neg_ppl:\n",
    "        neg_ppl_list[row[1]].append(row[0])\n",
    "        \n",
    "        \n",
    "        \n",
    "    matched_pairs = defaultdict(list)\n",
    "    for pos_person, pscore in matched_scores:\n",
    "        neg_person = neg_ppl_list[pscore].pop()\n",
    "        \n",
    "        matched_pairs[\"MMI_ID\"].append(pos_person)\n",
    "        matched_pairs[\"matched_person\"].append(neg_person)\n",
    "        \n",
    "        \n",
    "    return matched_pairs"
   ]
  },
  {
   "cell_type": "code",
   "execution_count": 21,
   "metadata": {},
   "outputs": [
    {
     "name": "stdout",
     "output_type": "stream",
     "text": [
      "5.87 s ± 79.5 ms per loop (mean ± std. dev. of 7 runs, 1 loop each)\n"
     ]
    }
   ],
   "source": [
    "%%timeit\n",
    "\n",
    "res = match_pairs_dev6(data)"
   ]
  },
  {
   "cell_type": "markdown",
   "metadata": {},
   "source": [
    "---"
   ]
  },
  {
   "cell_type": "code",
   "execution_count": 22,
   "metadata": {},
   "outputs": [],
   "source": [
    "# change prop score to unsigned 32bit integer\n",
    "\n",
    "# rewrite inner loop logic to eliminate an expensive index call when idx == n\n",
    "\n",
    "# remove output dataframe\n",
    "\n",
    "# changed to numpy for looping\n",
    "\n",
    "\n",
    "def match_pairs_dev7(people, caliper=0.05):\n",
    "    \n",
    "    PRECISION = 1000000\n",
    "    MAX_DIST = int(caliper * PRECISION)\n",
    "    \n",
    "    scores = people.assign(\n",
    "        prop_score = lambda df: np.floor(df[\"pred_prob\"].mul(PRECISION)).astype(np.uint32)\n",
    "    )\n",
    "\n",
    "              \n",
    "    \n",
    "    neg_ppl = scores.query(\"used_drug == 0\")[[\"MMI_ID\", \"prop_score\"]]\n",
    "    \n",
    "    \n",
    "    neg_scores = SortedList(neg_ppl[\"prop_score\"])\n",
    "    \n",
    "    matched_scores = []\n",
    "    pos_ppl = scores.query(\"used_drug == 1\")[[\"MMI_ID\", \"prop_score\"]].to_numpy()\n",
    "    \n",
    "    \n",
    "    for row in pos_ppl:\n",
    "        \n",
    "        \n",
    "        if not neg_scores:\n",
    "            break\n",
    "        \n",
    "        \n",
    "        target = row[1] # prop_score\n",
    "        \n",
    "        \n",
    "        closest_val = None        \n",
    "        \n",
    "                \n",
    "        idx = neg_scores.bisect_left(target)\n",
    "        \n",
    "        \n",
    "        if idx == len(neg_scores):\n",
    "            closest_val = neg_scores[-1]\n",
    "        elif idx == 0:\n",
    "            closest_val = neg_scores[0]\n",
    "\n",
    "            \n",
    "        if closest_val is None:\n",
    "            cur_val = neg_scores[idx]\n",
    "            prev_val = neg_scores[idx - 1]\n",
    "            \n",
    "            if (target - prev_val) < (cur_val - target):\n",
    "                closest_val = prev_val\n",
    "            else:\n",
    "                closest_val = cur_val\n",
    "                \n",
    "        if abs(target - closest_val) > MAX_DIST:\n",
    "            continue\n",
    "            \n",
    "        neg_scores.remove(closest_val)\n",
    "        \n",
    "        matched_scores.append((row[0], closest_val))\n",
    "\n",
    "        \n",
    "    neg_ppl_list = defaultdict(list)\n",
    "    \n",
    "    neg_ppl = neg_ppl.to_numpy()\n",
    "    \n",
    "    for row in neg_ppl:\n",
    "        neg_ppl_list[row[1]].append(row[0])\n",
    "        \n",
    "        \n",
    "        \n",
    "    matched_pairs = defaultdict(list)\n",
    "    for pos_person, pscore in matched_scores:\n",
    "        neg_person = neg_ppl_list[pscore].pop()\n",
    "        \n",
    "        matched_pairs[\"MMI_ID\"].append(pos_person)\n",
    "        matched_pairs[\"matched_person\"].append(neg_person)\n",
    "        \n",
    "        \n",
    "    return matched_pairs"
   ]
  },
  {
   "cell_type": "code",
   "execution_count": 23,
   "metadata": {},
   "outputs": [
    {
     "name": "stdout",
     "output_type": "stream",
     "text": [
      "5.82 s ± 27.7 ms per loop (mean ± std. dev. of 7 runs, 1 loop each)\n"
     ]
    }
   ],
   "source": [
    "%%timeit\n",
    "\n",
    "res = match_pairs_dev7(data)"
   ]
  },
  {
   "cell_type": "markdown",
   "metadata": {},
   "source": [
    "Not sure what happened, previously using numpy would speed up the looping, but now it's making things worse.\n",
    "\n",
    "Previously using numpy prior to looping would reduce runtime by another 0.5 s."
   ]
  },
  {
   "cell_type": "markdown",
   "metadata": {},
   "source": [
    "# Conclusion\n",
    "\n",
    "At this point it is clear that it will not really be possible to speed up the function in Python without some serious work. Python is just a slow language, and instead of optimizing Python, we should rewrite and optimize in the much faster C++, and call the fast C++ function from Python."
   ]
  }
 ],
 "metadata": {
  "kernelspec": {
   "display_name": "Python 3",
   "language": "python",
   "name": "python3"
  },
  "language_info": {
   "codemirror_mode": {
    "name": "ipython",
    "version": 3
   },
   "file_extension": ".py",
   "mimetype": "text/x-python",
   "name": "python",
   "nbconvert_exporter": "python",
   "pygments_lexer": "ipython3",
   "version": "3.6.8"
  }
 },
 "nbformat": 4,
 "nbformat_minor": 2
}
